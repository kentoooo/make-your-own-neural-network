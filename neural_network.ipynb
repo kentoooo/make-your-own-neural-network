{
 "cells": [
  {
   "cell_type": "code",
   "execution_count": 5,
   "metadata": {
    "collapsed": true
   },
   "outputs": [],
   "source": [
    "import numpy\n",
    "import scipy.special"
   ]
  },
  {
   "cell_type": "code",
   "execution_count": 6,
   "metadata": {},
   "outputs": [],
   "source": [
    "# ニューラルネットワークの定義\n",
    "class neuralNetwork:\n",
    "    \n",
    "    # 初期化\n",
    "    def __init__(self, inputnodes, hiddennodes, outputnodes, learningrate):\n",
    "        # 入力層、隠れ層、出力層のノード数の設定\n",
    "        self.inodes = inputnodes\n",
    "        self.hnodes = hiddennodes\n",
    "        self.onodes = outputnodes\n",
    "        \n",
    "        # リンクの重み行列 wih と who\n",
    "        # 行列内の重み w_i_j, ノード i から次の層のノード j へのリンクの重み\n",
    "        self.wih = numpy.random.normal(0.0,pow(self.hnodes, -0.5), (self.hnodes, self.inodes))\n",
    "        print(\"self.wih\",self.wih)\n",
    "        self.who = numpy.random.normal(0.0,pow(self.onodes, -0.5), (self.onodes, self.hnodes))\n",
    "        print(\"self.who\",self.who)\n",
    "        \n",
    "        # 学習率の設定\n",
    "        self.lr = learningrate\n",
    "        \n",
    "        self.activation_function = lambda x: scipy.special.expit(x)\n",
    "        \n",
    "        pass\n",
    "    \n",
    "    # 学習\n",
    "    def train(self, inputs_list, targets_list):\n",
    "            \n",
    "            # 入力リストを行列に変換\n",
    "            inputs = numpy.array(inputs_list, ndmin=2).T\n",
    "            targets = numpy.array(targets_list, ndmin=2).T\n",
    "            \n",
    "            # 隠れ層に入ってくる信号の計算\n",
    "            hidden_inputs = numpy.dots(self.wih, inputs)\n",
    "            # 隠れ層で結合された信号を活性化関数により出力\n",
    "            hidden_outputs = self.activation_function(hidden_inputs)\n",
    "            \n",
    "            # 出力層に入ってくる信号の計算\n",
    "            final_inputs = numpy.dot(self.who, hidden_outputs)\n",
    "            # 出力層で結合された信号を活性化関数により出力\n",
    "            final_outputs = self.activation_function(final_inputs)\n",
    "            \n",
    "            # 出力の誤差 = (目標出力 - 最終出力)\n",
    "            output_errors = targets - final_outputs\n",
    "            \n",
    "            # 隠れ層の誤差は出力層の誤差をリンクの重みの割合で分配\n",
    "            hidden_errors = numpy.dot(self.who.T, output_errors)\n",
    "            \n",
    "            self.who += self.lr * numpy.dot((output_errors * final_outputs * (1.0 - final_outputs)), numpy.transpose(hidden_outputs))\n",
    "            self.wih += self.lr * numpy.dot((hidden_errors * hidden_outputs * (1.0 - hidden_outputs)), numpy.transpose(inputs))\n",
    "            \n",
    "            pass\n",
    "        \n",
    "    # 照会\n",
    "    def query(self, inputs_list):\n",
    "        # 入力リストを行列に変換\n",
    "        inputs = numpy.array(inputs_list, ndmin=2).T\n",
    "        \n",
    "        print(\"inputs\",inputs)\n",
    "        \n",
    "        # 隠れ層に入ってくる信号の計算\n",
    "        hidden_inputs = numpy.dot(self.wih, inputs)\n",
    "        print(\"hidden_inputs\",hidden_inputs)\n",
    "        # 隠れ層で結合された信号を活性化関数により出力\n",
    "        hidden_outputs = self.activation_function(hidden_inputs)\n",
    "        print(\"hidden_outputs\",hidden_outputs)\n",
    "        \n",
    "        # 出力層に入ってくる信号の計算\n",
    "        final_inputs = numpy.dot(self.who, hidden_outputs)\n",
    "        print(\"final_inputs\",final_inputs)\n",
    "        # 出力層で結合された信号を活性化関数により出力\n",
    "        final_outputs = self.activation_function(final_inputs)\n",
    "        print(\"final_outputs\",final_outputs)\n",
    "        \n",
    "        return final_outputs\n"
   ]
  },
  {
   "cell_type": "code",
   "execution_count": 7,
   "metadata": {},
   "outputs": [
    {
     "name": "stdout",
     "output_type": "stream",
     "text": [
      "self.wih [[-0.64456298 -0.2842766   0.27072414]\n",
      " [-1.02082632  0.14945707 -0.34756454]\n",
      " [-0.27874678 -0.62127468 -0.15618384]]\n",
      "self.who [[ 0.55852041 -0.95084607 -0.04807819]\n",
      " [ 0.19950189  1.10565387 -0.24580982]\n",
      " [-0.15981915  0.28569616  0.56705179]]\n"
     ]
    }
   ],
   "source": [
    "# 入力層、隠れ層、出力層のノード数\n",
    "input_nodes = 3\n",
    "hidden_nodes = 3\n",
    "output_nodes = 3\n",
    "\n",
    "# 学習率 = 0.3\n",
    "learning_rate = 0.3\n",
    "\n",
    "n = neuralNetwork(input_nodes, hidden_nodes, output_nodes, learning_rate)"
   ]
  },
  {
   "cell_type": "code",
   "execution_count": 8,
   "metadata": {},
   "outputs": [
    {
     "name": "stdout",
     "output_type": "stream",
     "text": [
      "inputs [[ 1. ]\n",
      " [ 0.5]\n",
      " [-1.5]]\n",
      "hidden_inputs [[-1.19278748]\n",
      " [-0.42475099]\n",
      " [-0.35510836]]\n",
      "hidden_outputs [[ 0.23276077]\n",
      " [ 0.39538044]\n",
      " [ 0.41214421]]\n",
      "final_inputs [[-0.26575945]\n",
      " [ 0.38228104]\n",
      " [ 0.30946616]]\n",
      "final_outputs [[ 0.43394844]\n",
      " [ 0.59442314]\n",
      " [ 0.57675495]]\n"
     ]
    },
    {
     "data": {
      "text/plain": [
       "array([[ 0.43394844],\n",
       "       [ 0.59442314],\n",
       "       [ 0.57675495]])"
      ]
     },
     "execution_count": 8,
     "metadata": {},
     "output_type": "execute_result"
    }
   ],
   "source": [
    "n.query([1.0, 0.5, -1.5])"
   ]
  },
  {
   "cell_type": "code",
   "execution_count": null,
   "metadata": {
    "collapsed": true
   },
   "outputs": [],
   "source": []
  },
  {
   "cell_type": "code",
   "execution_count": null,
   "metadata": {
    "collapsed": true
   },
   "outputs": [],
   "source": []
  }
 ],
 "metadata": {
  "kernelspec": {
   "display_name": "Python 3",
   "language": "python",
   "name": "python3"
  },
  "language_info": {
   "codemirror_mode": {
    "name": "ipython",
    "version": 3
   },
   "file_extension": ".py",
   "mimetype": "text/x-python",
   "name": "python",
   "nbconvert_exporter": "python",
   "pygments_lexer": "ipython3",
   "version": "3.6.3"
  }
 },
 "nbformat": 4,
 "nbformat_minor": 2
}
